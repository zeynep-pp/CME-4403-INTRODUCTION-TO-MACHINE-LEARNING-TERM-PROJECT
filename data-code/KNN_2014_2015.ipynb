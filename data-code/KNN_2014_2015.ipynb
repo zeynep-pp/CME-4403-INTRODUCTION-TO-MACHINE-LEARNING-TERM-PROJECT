{
 "cells": [
  {
   "cell_type": "code",
   "execution_count": 22,
   "metadata": {},
   "outputs": [],
   "source": [
    "import pandas as pd\n",
    "import numpy as np\n",
    "import matplotlib\n",
    "import matplotlib.pyplot as plt\n",
    "\n",
    "%matplotlib inline\n",
    "matplotlib.rcParams['figure.figsize'] = [12, 12]\n",
    "np.random.seed(42)"
   ]
  },
  {
   "cell_type": "code",
   "execution_count": 34,
   "metadata": {},
   "outputs": [
    {
     "data": {
      "text/plain": [
       "(231, 12)"
      ]
     },
     "execution_count": 34,
     "metadata": {},
     "output_type": "execute_result"
    }
   ],
   "source": [
    "movies = pd.read_csv(\"data_movies1.csv\")\n",
    "movies.shape"
   ]
  },
  {
   "cell_type": "code",
   "execution_count": 35,
   "metadata": {},
   "outputs": [
    {
     "data": {
      "text/html": [
       "<div>\n",
       "<style scoped>\n",
       "    .dataframe tbody tr th:only-of-type {\n",
       "        vertical-align: middle;\n",
       "    }\n",
       "\n",
       "    .dataframe tbody tr th {\n",
       "        vertical-align: top;\n",
       "    }\n",
       "\n",
       "    .dataframe thead th {\n",
       "        text-align: right;\n",
       "    }\n",
       "</style>\n",
       "<table border=\"1\" class=\"dataframe\">\n",
       "  <thead>\n",
       "    <tr style=\"text-align: right;\">\n",
       "      <th></th>\n",
       "      <th>Movie</th>\n",
       "      <th>Year</th>\n",
       "      <th>Ratings</th>\n",
       "      <th>Genre</th>\n",
       "      <th>Gross</th>\n",
       "      <th>Budget</th>\n",
       "      <th>Sequel</th>\n",
       "      <th>Views</th>\n",
       "      <th>Likes</th>\n",
       "      <th>Dislikes</th>\n",
       "      <th>Comments</th>\n",
       "      <th>Aggregate Followers</th>\n",
       "    </tr>\n",
       "  </thead>\n",
       "  <tbody>\n",
       "    <tr>\n",
       "      <th>0</th>\n",
       "      <td>13 Sins</td>\n",
       "      <td>2014</td>\n",
       "      <td>6.3</td>\n",
       "      <td>8</td>\n",
       "      <td>9130</td>\n",
       "      <td>4000000.0</td>\n",
       "      <td>1</td>\n",
       "      <td>3280543</td>\n",
       "      <td>4632</td>\n",
       "      <td>425</td>\n",
       "      <td>636</td>\n",
       "      <td>1120000</td>\n",
       "    </tr>\n",
       "    <tr>\n",
       "      <th>1</th>\n",
       "      <td>22 Jump Street</td>\n",
       "      <td>2014</td>\n",
       "      <td>7.1</td>\n",
       "      <td>1</td>\n",
       "      <td>192000000</td>\n",
       "      <td>50000000.0</td>\n",
       "      <td>2</td>\n",
       "      <td>583289</td>\n",
       "      <td>3465</td>\n",
       "      <td>61</td>\n",
       "      <td>186</td>\n",
       "      <td>12350000</td>\n",
       "    </tr>\n",
       "    <tr>\n",
       "      <th>2</th>\n",
       "      <td>3 Days to Kill</td>\n",
       "      <td>2014</td>\n",
       "      <td>6.2</td>\n",
       "      <td>1</td>\n",
       "      <td>30700000</td>\n",
       "      <td>28000000.0</td>\n",
       "      <td>1</td>\n",
       "      <td>304861</td>\n",
       "      <td>328</td>\n",
       "      <td>34</td>\n",
       "      <td>47</td>\n",
       "      <td>483000</td>\n",
       "    </tr>\n",
       "    <tr>\n",
       "      <th>3</th>\n",
       "      <td>300: Rise of an Empire</td>\n",
       "      <td>2014</td>\n",
       "      <td>6.3</td>\n",
       "      <td>1</td>\n",
       "      <td>106000000</td>\n",
       "      <td>110000000.0</td>\n",
       "      <td>2</td>\n",
       "      <td>452917</td>\n",
       "      <td>2429</td>\n",
       "      <td>132</td>\n",
       "      <td>590</td>\n",
       "      <td>568000</td>\n",
       "    </tr>\n",
       "    <tr>\n",
       "      <th>4</th>\n",
       "      <td>A Haunted House 2</td>\n",
       "      <td>2014</td>\n",
       "      <td>4.7</td>\n",
       "      <td>8</td>\n",
       "      <td>17300000</td>\n",
       "      <td>3500000.0</td>\n",
       "      <td>2</td>\n",
       "      <td>3145573</td>\n",
       "      <td>12163</td>\n",
       "      <td>610</td>\n",
       "      <td>1082</td>\n",
       "      <td>1923800</td>\n",
       "    </tr>\n",
       "  </tbody>\n",
       "</table>\n",
       "</div>"
      ],
      "text/plain": [
       "                    Movie  Year  Ratings  Genre      Gross       Budget  \\\n",
       "0                 13 Sins  2014      6.3      8       9130    4000000.0   \n",
       "1          22 Jump Street  2014      7.1      1  192000000   50000000.0   \n",
       "2          3 Days to Kill  2014      6.2      1   30700000   28000000.0   \n",
       "3  300: Rise of an Empire  2014      6.3      1  106000000  110000000.0   \n",
       "4       A Haunted House 2  2014      4.7      8   17300000    3500000.0   \n",
       "\n",
       "   Sequel    Views  Likes  Dislikes  Comments  Aggregate Followers  \n",
       "0       1  3280543   4632       425       636              1120000  \n",
       "1       2   583289   3465        61       186             12350000  \n",
       "2       1   304861    328        34        47               483000  \n",
       "3       2   452917   2429       132       590               568000  \n",
       "4       2  3145573  12163       610      1082              1923800  "
      ]
     },
     "execution_count": 35,
     "metadata": {},
     "output_type": "execute_result"
    }
   ],
   "source": [
    "movies.head()"
   ]
  },
  {
   "cell_type": "code",
   "execution_count": 36,
   "metadata": {},
   "outputs": [],
   "source": [
    "movies = movies.drop(\"Movie\", axis=1)"
   ]
  },
  {
   "cell_type": "code",
   "execution_count": 37,
   "metadata": {},
   "outputs": [],
   "source": [
    "from sklearn.neighbors import KNeighborsClassifier, KNeighborsRegressor\n",
    "from sklearn.model_selection import train_test_split"
   ]
  },
  {
   "cell_type": "markdown",
   "metadata": {},
   "source": [
    "# KNN for classification problems\n",
    "I tested KNN for classification, specifically let's assume that we want to predict the genre of a movie based on its popularity."
   ]
  },
  {
   "cell_type": "code",
   "execution_count": 38,
   "metadata": {},
   "outputs": [],
   "source": [
    "\n",
    "from sklearn.metrics import f1_score\n",
    "\n",
    "variable_objetivo_clasificacion = \"Genre\"\n",
    "variables_independientes_clasificacion = movies.drop(\n",
    "    variable_objetivo_clasificacion, axis=1).columns"
   ]
  },
  {
   "cell_type": "code",
   "execution_count": 39,
   "metadata": {},
   "outputs": [],
   "source": [
    "\n",
    "X_train, X_test, y_train, y_test = train_test_split(\n",
    "    movies[variables_independientes_clasificacion],\n",
    "    movies[variable_objetivo_clasificacion], test_size=0.20)"
   ]
  },
  {
   "cell_type": "code",
   "execution_count": 11,
   "metadata": {},
   "outputs": [],
   "source": [
    "KNeighborsClassifier?"
   ]
  },
  {
   "cell_type": "markdown",
   "metadata": {},
   "source": [
    "The most important parameters when using KNeighborsClasifier are:\n",
    "\n",
    "- n_neighbors: The value of K, that is, the number of neighbors to consider when assigning a class.\n",
    "- weights: When it comes to voting, how important is it to give to the neighbors. If we choose car, it assigns the same importance to all the neighbors. If we choose distance, it assigns importance to the neighbors based on the distance from the - neighbors to the point to be classified\n",
    "- metric: The metric when measuring the distance between the points. If Minkowsky distance is used, p can be chosen with the parameter p, which by default is 2 (which computes the Euclidean distance).\n",
    "\n",
    "In this particular case we know what value to choose from K, since we can assume that the number of categories in the dataset is the total number of movie categories in the training dataset."
   ]
  },
  {
   "cell_type": "code",
   "execution_count": 40,
   "metadata": {},
   "outputs": [
    {
     "data": {
      "text/plain": [
       "10"
      ]
     },
     "execution_count": 40,
     "metadata": {},
     "output_type": "execute_result"
    }
   ],
   "source": [
    "k_categorias = len(y_train.unique())\n",
    "k_categorias"
   ]
  },
  {
   "cell_type": "code",
   "execution_count": 41,
   "metadata": {},
   "outputs": [
    {
     "data": {
      "text/plain": [
       "KNeighborsClassifier(n_neighbors=12)"
      ]
     },
     "execution_count": 41,
     "metadata": {},
     "output_type": "execute_result"
    }
   ],
   "source": [
    "\n",
    "sorter_knn = KNeighborsClassifier(n_neighbors=12, weights=\"uniform\")\n",
    "sorter_knn.fit(X_train, y_train)"
   ]
  },
  {
   "cell_type": "code",
   "execution_count": 42,
   "metadata": {},
   "outputs": [
    {
     "data": {
      "text/plain": [
       "0.38297872340425526"
      ]
     },
     "execution_count": 42,
     "metadata": {},
     "output_type": "execute_result"
    }
   ],
   "source": [
    "preds = sorter_knn.predict(X_test)\n",
    "f1_score(y_test, preds, average=\"micro\")"
   ]
  },
  {
   "cell_type": "code",
   "execution_count": 43,
   "metadata": {},
   "outputs": [
    {
     "data": {
      "text/plain": [
       "0.38297872340425526"
      ]
     },
     "execution_count": 43,
     "metadata": {},
     "output_type": "execute_result"
    }
   ],
   "source": [
    "sorter_knn = KNeighborsClassifier(n_neighbors=10, \n",
    "                                        weights=\"distance\")\n",
    "\n",
    "sorter_knn.fit(X_train, y_train)\n",
    "\n",
    "preds = sorter_knn.predict(X_test)\n",
    "f1_score(y_test, preds, average=\"micro\")"
   ]
  },
  {
   "cell_type": "markdown",
   "metadata": {},
   "source": [
    "We can use the kneighbors method to return the k neighbors of a specific point"
   ]
  },
  {
   "cell_type": "code",
   "execution_count": 44,
   "metadata": {},
   "outputs": [
    {
     "data": {
      "text/plain": [
       "Year                       2015.0\n",
       "Ratings                       7.7\n",
       "Gross                  49500000.0\n",
       "Budget                 30000000.0\n",
       "Sequel                        1.0\n",
       "Views                  11476882.0\n",
       "Likes                     40496.0\n",
       "Dislikes                   1383.0\n",
       "Comments                   4435.0\n",
       "Aggregate Followers           0.0\n",
       "Name: 218, dtype: float64"
      ]
     },
     "execution_count": 44,
     "metadata": {},
     "output_type": "execute_result"
    }
   ],
   "source": [
    "X_test.iloc[0]"
   ]
  },
  {
   "cell_type": "code",
   "execution_count": 45,
   "metadata": {},
   "outputs": [
    {
     "data": {
      "text/plain": [
       "(array([[8648469.61304606]]), array([[156]], dtype=int64))"
      ]
     },
     "execution_count": 45,
     "metadata": {},
     "output_type": "execute_result"
    }
   ],
   "source": [
    "distance, index = sorter_knn.kneighbors(\n",
    "    [X_test.iloc[0]], n_neighbors=1)\n",
    "distance, index "
   ]
  },
  {
   "cell_type": "code",
   "execution_count": 47,
   "metadata": {},
   "outputs": [
    {
     "data": {
      "text/html": [
       "<div>\n",
       "<style scoped>\n",
       "    .dataframe tbody tr th:only-of-type {\n",
       "        vertical-align: middle;\n",
       "    }\n",
       "\n",
       "    .dataframe tbody tr th {\n",
       "        vertical-align: top;\n",
       "    }\n",
       "\n",
       "    .dataframe thead th {\n",
       "        text-align: right;\n",
       "    }\n",
       "</style>\n",
       "<table border=\"1\" class=\"dataframe\">\n",
       "  <thead>\n",
       "    <tr style=\"text-align: right;\">\n",
       "      <th></th>\n",
       "      <th>Year</th>\n",
       "      <th>Ratings</th>\n",
       "      <th>Gross</th>\n",
       "      <th>Budget</th>\n",
       "      <th>Sequel</th>\n",
       "      <th>Views</th>\n",
       "      <th>Likes</th>\n",
       "      <th>Dislikes</th>\n",
       "      <th>Comments</th>\n",
       "      <th>Aggregate Followers</th>\n",
       "    </tr>\n",
       "  </thead>\n",
       "  <tbody>\n",
       "    <tr>\n",
       "      <th>191</th>\n",
       "      <td>2015</td>\n",
       "      <td>7.3</td>\n",
       "      <td>42500000</td>\n",
       "      <td>25000000.0</td>\n",
       "      <td>1</td>\n",
       "      <td>11036701</td>\n",
       "      <td>50002</td>\n",
       "      <td>1005</td>\n",
       "      <td>3525</td>\n",
       "      <td>776000</td>\n",
       "    </tr>\n",
       "  </tbody>\n",
       "</table>\n",
       "</div>"
      ],
      "text/plain": [
       "     Year  Ratings     Gross      Budget  Sequel     Views  Likes  Dislikes  \\\n",
       "191  2015      7.3  42500000  25000000.0       1  11036701  50002      1005   \n",
       "\n",
       "     Comments  Aggregate Followers  \n",
       "191      3525               776000  "
      ]
     },
     "execution_count": 47,
     "metadata": {},
     "output_type": "execute_result"
    }
   ],
   "source": [
    "X_train.iloc[index[0]]"
   ]
  },
  {
   "cell_type": "markdown",
   "metadata": {},
   "source": [
    "We see that the nearest neighbor is similar."
   ]
  },
  {
   "cell_type": "markdown",
   "metadata": {},
   "source": [
    "# KNN for regression problems\n",
    "\n",
    "We are now going to use the KNN algorithm for a regression problem, KNN works the same to do regressions, simply that instead of a vote where the most common class among the closest neighbors is the chosen one, an interpolation of the values of the Objective numerical variable of the neighbors.\n",
    "\n",
    "\n",
    "Specifically, we will estimate a movie's rating based on its online popularity and budget."
   ]
  },
  {
   "cell_type": "code",
   "execution_count": 49,
   "metadata": {},
   "outputs": [],
   "source": [
    "from sklearn.metrics import mean_squared_error\n",
    "\n",
    "target_variable_regresion = \"Ratings\"\n",
    "independent_variables_regresion = movies.drop(\n",
    "    target_variable_regresion, axis=1).columns"
   ]
  },
  {
   "cell_type": "code",
   "execution_count": 50,
   "metadata": {},
   "outputs": [],
   "source": [
    "X_train, X_test, y_train, y_test = train_test_split(\n",
    "    movies[independent_variables_regresion],\n",
    "    movies[target_variable_regresion], test_size=0.20)"
   ]
  },
  {
   "cell_type": "markdown",
   "metadata": {},
   "source": [
    "We use the implementation in sklearn KNeighborsRegressor for regression problems. It has the same hyperparameters as NeighborsClassifier."
   ]
  },
  {
   "cell_type": "code",
   "execution_count": 51,
   "metadata": {},
   "outputs": [],
   "source": [
    "KNeighborsRegressor?"
   ]
  },
  {
   "cell_type": "code",
   "execution_count": 52,
   "metadata": {},
   "outputs": [
    {
     "data": {
      "text/plain": [
       "KNeighborsRegressor(n_neighbors=10, weights='distance')"
      ]
     },
     "execution_count": 52,
     "metadata": {},
     "output_type": "execute_result"
    }
   ],
   "source": [
    "regresor_knn = KNeighborsRegressor(n_neighbors=10, weights=\"distance\")\n",
    "\n",
    "regresor_knn.fit(X_train, y_train)"
   ]
  },
  {
   "cell_type": "code",
   "execution_count": 53,
   "metadata": {},
   "outputs": [
    {
     "data": {
      "text/plain": [
       "array([6.03471808, 7.56968834, 5.92735422, 6.36187239, 6.08678709,\n",
       "       6.48539033, 6.96721807, 6.55262025, 6.59562762, 5.87001251,\n",
       "       6.6884213 , 7.38110603, 6.39663533, 5.95413766, 6.51981556,\n",
       "       5.85118455, 6.40385919, 6.63010777, 6.35782291, 6.49363535,\n",
       "       6.28316497, 6.13233039, 6.54919148, 6.03646421, 6.04144111,\n",
       "       6.70913488, 6.97256534, 6.59169321, 5.86845125, 7.22445958,\n",
       "       5.85473251, 6.55750837, 6.20924403, 6.82306304, 6.99441989,\n",
       "       7.24660947, 6.67433805, 6.37500542, 6.03835909, 6.53424175,\n",
       "       7.05121279, 6.99811042, 7.26120695, 7.33524171, 6.36581131,\n",
       "       6.98760683, 6.34280441])"
      ]
     },
     "execution_count": 53,
     "metadata": {},
     "output_type": "execute_result"
    }
   ],
   "source": [
    "\n",
    "preds = regresor_knn.predict(X_test)\n",
    "preds"
   ]
  },
  {
   "cell_type": "code",
   "execution_count": 54,
   "metadata": {},
   "outputs": [
    {
     "data": {
      "text/plain": [
       "0.9106811896268168"
      ]
     },
     "execution_count": 54,
     "metadata": {},
     "output_type": "execute_result"
    }
   ],
   "source": [
    "np.sqrt(np.abs(mean_squared_error(y_test, preds)))"
   ]
  },
  {
   "cell_type": "markdown",
   "metadata": {},
   "source": [
    "Now we see the operation in cross validation of both the classifier and the regressor"
   ]
  },
  {
   "cell_type": "code",
   "execution_count": 55,
   "metadata": {},
   "outputs": [],
   "source": [
    "from sklearn.model_selection import cross_val_score"
   ]
  },
  {
   "cell_type": "code",
   "execution_count": 64,
   "metadata": {},
   "outputs": [
    {
     "name": "stdout",
     "output_type": "stream",
     "text": [
      "The KNN RMSE error for regression on this dataset is  0.99\n"
     ]
    }
   ],
   "source": [
    "error_validacion_cruzada_regresion = np.sqrt (np.abs (\n",
    "     cross_val_score (KNeighborsRegressor (weights = \"distance\"),\n",
    "                 X = movies [independent_variables_regresion],\n",
    "                y = movies [target_variable_regresion],\n",
    "                scoring = \"neg_mean_squared_error\"\n",
    "         ) .mean ()\n",
    "       )\n",
    ")\n",
    "print (\"The KNN RMSE error for regression on this dataset is {: .2f}\". format (\n",
    "     error_validacion_cruzada_regresion))"
   ]
  },
  {
   "cell_type": "code",
   "execution_count": null,
   "metadata": {},
   "outputs": [],
   "source": [
    "cross_classification_validation_error = np.sqrt (np.abs (\n",
    "     cross_val_score (KNeighborsClassifier (n_neighbors = k_categorias,\n",
    "                                          weights = \"distance\"),\n",
    "                 X = movies [independent_variables_regresion],\n",
    "                y = movies [target_variable_regresion],\n",
    "                scoring = \"f1_micro\"\n",
    "         ) .mean ()\n",
    "       )\n",
    ")\n",
    "print (\"The KNN F1 score for classification in this dataset is {:.2f}\". format (\n",
    "     cross_classification_validation_error))"
   ]
  }
 ],
 "metadata": {
  "kernelspec": {
   "display_name": "Python 3",
   "language": "python",
   "name": "python3"
  },
  "language_info": {
   "codemirror_mode": {
    "name": "ipython",
    "version": 3
   },
   "file_extension": ".py",
   "mimetype": "text/x-python",
   "name": "python",
   "nbconvert_exporter": "python",
   "pygments_lexer": "ipython3",
   "version": "3.8.5"
  }
 },
 "nbformat": 4,
 "nbformat_minor": 4
}
